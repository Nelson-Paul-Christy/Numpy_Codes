{
  "nbformat": 4,
  "nbformat_minor": 0,
  "metadata": {
    "colab": {
      "provenance": [],
      "include_colab_link": true
    },
    "kernelspec": {
      "name": "python3",
      "display_name": "Python 3"
    },
    "language_info": {
      "name": "python"
    }
  },
  "cells": [
    {
      "cell_type": "markdown",
      "metadata": {
        "id": "view-in-github",
        "colab_type": "text"
      },
      "source": [
        "<a href=\"https://colab.research.google.com/github/Nelson-Paul-Christy/Numpy_Codes/blob/main/Numpy_with_Rajan_Chettri.ipynb\" target=\"_parent\"><img src=\"https://colab.research.google.com/assets/colab-badge.svg\" alt=\"Open In Colab\"/></a>"
      ]
    },
    {
      "cell_type": "markdown",
      "source": [
        "<pre>\n",
        "Today's Agenda\n",
        "============================\n",
        "\n",
        "Introduction to Numpy & Context Set Up\n",
        "Introduction to ND Array\n",
        "Numpy vs Python\n",
        "Working with ND Array\n",
        "=============================\n",
        "\n"
      ],
      "metadata": {
        "id": "tAMZmQ7Fpe5f"
      }
    },
    {
      "cell_type": "code",
      "source": [
        "# Please Note :    Numpy Provides its OWN Data Structure to    -   Store  & Process Data.\n",
        "\n",
        "# if we wish to leverage the numerical built in functionality of numpy we must use numpy's DataStructure\n",
        "# to Store & Process Data.\n",
        "\n",
        "# ND Array - N Dimensional Array"
      ],
      "metadata": {
        "id": "Xfo3Qd_7pfG-"
      },
      "execution_count": null,
      "outputs": []
    },
    {
      "cell_type": "code",
      "source": [
        "# Import numpy\n",
        "\n",
        "import numpy as np\n",
        "\n",
        "# here np is alias (nick name) can be any word"
      ],
      "metadata": {
        "id": "yf5eKWoPs9DC"
      },
      "execution_count": null,
      "outputs": []
    },
    {
      "cell_type": "code",
      "source": [
        "# here is a sample data : distance traveled by 5 Bike Riders 🚴‍♂️\n",
        "\n",
        "distance_traveled = [ 119 , 210 , 240 , 310 , 180 ]"
      ],
      "metadata": {
        "id": "0IXds65UwyUC"
      },
      "execution_count": null,
      "outputs": []
    },
    {
      "cell_type": "code",
      "source": [
        "#  objective: is to statistically/mathematical analysis of above data. to extract the numerical facts i must convert\n",
        "# above data into ND Array so that i have access to numpy built functions."
      ],
      "metadata": {
        "id": "G-gyTUvAw9Uq"
      },
      "execution_count": null,
      "outputs": []
    },
    {
      "cell_type": "code",
      "source": [
        "# np.array(): this function converts the provided list into ND Array\n",
        "\n",
        "myarr = np.array(   distance_traveled )"
      ],
      "metadata": {
        "id": "BCugdQnJxL7U"
      },
      "execution_count": null,
      "outputs": []
    },
    {
      "cell_type": "code",
      "source": [
        "# what is myarr ?\n",
        "type(myarr)"
      ],
      "metadata": {
        "colab": {
          "base_uri": "https://localhost:8080/"
        },
        "id": "UvFuagODxX6G",
        "outputId": "aafe848d-7126-4484-b822-4da23a2a7922"
      },
      "execution_count": null,
      "outputs": [
        {
          "output_type": "execute_result",
          "data": {
            "text/plain": [
              "numpy.ndarray"
            ]
          },
          "metadata": {},
          "execution_count": 7
        }
      ]
    },
    {
      "cell_type": "code",
      "source": [
        "# what does myarr contains ?\n",
        "myarr"
      ],
      "metadata": {
        "colab": {
          "base_uri": "https://localhost:8080/"
        },
        "id": "eVLwu93fxfet",
        "outputId": "2a06c2d0-97fc-41f9-f4b7-ea606e148a38"
      },
      "execution_count": null,
      "outputs": [
        {
          "output_type": "execute_result",
          "data": {
            "text/plain": [
              "array([119, 210, 240, 310, 180])"
            ]
          },
          "metadata": {},
          "execution_count": 8
        }
      ]
    },
    {
      "cell_type": "code",
      "source": [],
      "metadata": {
        "id": "OD-U0AZPxi7b"
      },
      "execution_count": null,
      "outputs": []
    },
    {
      "cell_type": "markdown",
      "source": [
        "### Let us experience how does it looks like when we study data mathematically !"
      ],
      "metadata": {
        "id": "RT0Uu796xviv"
      }
    },
    {
      "cell_type": "code",
      "source": [
        "print('original Data ' , myarr)"
      ],
      "metadata": {
        "colab": {
          "base_uri": "https://localhost:8080/"
        },
        "id": "U5DdTqZOxzKe",
        "outputId": "9d05555c-5c18-49fa-935e-dfb0df19dabb"
      },
      "execution_count": null,
      "outputs": [
        {
          "output_type": "stream",
          "name": "stdout",
          "text": [
            "original Data  [119 210 240 310 180]\n"
          ]
        }
      ]
    },
    {
      "cell_type": "code",
      "source": [
        "print('Longest Distance Travled ' , myarr.max())"
      ],
      "metadata": {
        "colab": {
          "base_uri": "https://localhost:8080/"
        },
        "id": "kFSKPFiVx2Ya",
        "outputId": "c8b91c4a-6ebb-4aaa-c282-c27e279b9bf8"
      },
      "execution_count": null,
      "outputs": [
        {
          "output_type": "stream",
          "name": "stdout",
          "text": [
            "Longest Distance Travled  310\n"
          ]
        }
      ]
    },
    {
      "cell_type": "code",
      "source": [
        "print('Shortest Distance Traveled ', myarr.min())"
      ],
      "metadata": {
        "colab": {
          "base_uri": "https://localhost:8080/"
        },
        "id": "sHCBp2pax5eN",
        "outputId": "48542fca-44c5-47db-8dbe-6f28364697de"
      },
      "execution_count": null,
      "outputs": [
        {
          "output_type": "stream",
          "name": "stdout",
          "text": [
            "Shortest Distance Traveled  119\n"
          ]
        }
      ]
    },
    {
      "cell_type": "code",
      "source": [
        "print('Total Distance Traveled by All' , myarr.sum())"
      ],
      "metadata": {
        "colab": {
          "base_uri": "https://localhost:8080/"
        },
        "id": "LDUBDDhNx779",
        "outputId": "2707bc73-9690-4175-c4bc-bdc86bb733e1"
      },
      "execution_count": null,
      "outputs": [
        {
          "output_type": "stream",
          "name": "stdout",
          "text": [
            "Total Distance Traveled by All 1059\n"
          ]
        }
      ]
    },
    {
      "cell_type": "code",
      "source": [
        "print('Average Distance Traveled ', myarr.mean())"
      ],
      "metadata": {
        "colab": {
          "base_uri": "https://localhost:8080/"
        },
        "id": "PQxOjRz9x_s3",
        "outputId": "b59c9d5a-7a6c-46d6-8e46-7e1ab8129160"
      },
      "execution_count": null,
      "outputs": [
        {
          "output_type": "stream",
          "name": "stdout",
          "text": [
            "Average Distance Traveled  211.8\n"
          ]
        }
      ]
    },
    {
      "cell_type": "code",
      "source": [
        "print('Median Distance Value ' , np.median(myarr))"
      ],
      "metadata": {
        "colab": {
          "base_uri": "https://localhost:8080/"
        },
        "id": "reNHGG2fyCE0",
        "outputId": "cddcce2c-da91-4cde-c5fe-e82ec7315cb8"
      },
      "execution_count": null,
      "outputs": [
        {
          "output_type": "stream",
          "name": "stdout",
          "text": [
            "Median Distance Value  210.0\n"
          ]
        }
      ]
    },
    {
      "cell_type": "code",
      "source": [
        "print('Standard Deviation ' , myarr.std())"
      ],
      "metadata": {
        "colab": {
          "base_uri": "https://localhost:8080/"
        },
        "id": "oEya8v0cyEJm",
        "outputId": "4605172a-d7f3-435e-a5da-0f31e4e28bee"
      },
      "execution_count": null,
      "outputs": [
        {
          "output_type": "stream",
          "name": "stdout",
          "text": [
            "Standard Deviation  63.34792814291561\n"
          ]
        }
      ]
    },
    {
      "cell_type": "code",
      "source": [
        "# list\n",
        "distance_traveled"
      ],
      "metadata": {
        "colab": {
          "base_uri": "https://localhost:8080/"
        },
        "id": "JuBK5y02yKrD",
        "outputId": "5a3da1ac-78fd-4c98-d27c-09b78ba2733f"
      },
      "execution_count": null,
      "outputs": [
        {
          "output_type": "execute_result",
          "data": {
            "text/plain": [
              "[119, 210, 240, 310, 180]"
            ]
          },
          "metadata": {},
          "execution_count": 17
        }
      ]
    },
    {
      "cell_type": "code",
      "source": [
        "# nd array\n",
        "myarr"
      ],
      "metadata": {
        "colab": {
          "base_uri": "https://localhost:8080/"
        },
        "id": "E1IqsUG-yW26",
        "outputId": "41d560c3-93ef-43e1-9aed-750a447f5cf7"
      },
      "execution_count": null,
      "outputs": [
        {
          "output_type": "execute_result",
          "data": {
            "text/plain": [
              "array([119, 210, 240, 310, 180])"
            ]
          },
          "metadata": {},
          "execution_count": 18
        }
      ]
    },
    {
      "cell_type": "code",
      "source": [],
      "metadata": {
        "id": "0HoZMJIdyX1N"
      },
      "execution_count": null,
      "outputs": []
    },
    {
      "cell_type": "code",
      "source": [
        "# you are asked find the 10% distance traveled by each rider"
      ],
      "metadata": {
        "id": "q6m9rPcZy27_"
      },
      "execution_count": null,
      "outputs": []
    },
    {
      "cell_type": "code",
      "source": [
        "# list\n",
        "distance_traveled"
      ],
      "metadata": {
        "colab": {
          "base_uri": "https://localhost:8080/"
        },
        "id": "YEPl2rzhy5gD",
        "outputId": "6739b98f-4bf9-4e54-ac04-10b4135afd1d"
      },
      "execution_count": null,
      "outputs": [
        {
          "output_type": "execute_result",
          "data": {
            "text/plain": [
              "[119, 210, 240, 310, 180]"
            ]
          },
          "metadata": {},
          "execution_count": 20
        }
      ]
    },
    {
      "cell_type": "code",
      "source": [
        "distance_traveled * .1"
      ],
      "metadata": {
        "colab": {
          "base_uri": "https://localhost:8080/",
          "height": 141
        },
        "id": "H7PMekAty9Ot",
        "outputId": "5caf9597-a2f9-485a-ed30-cb2ee560b11f"
      },
      "execution_count": null,
      "outputs": [
        {
          "output_type": "error",
          "ename": "TypeError",
          "evalue": "can't multiply sequence by non-int of type 'float'",
          "traceback": [
            "\u001b[0;31m---------------------------------------------------------------------------\u001b[0m",
            "\u001b[0;31mTypeError\u001b[0m                                 Traceback (most recent call last)",
            "\u001b[0;32m/tmp/ipython-input-1344498248.py\u001b[0m in \u001b[0;36m<cell line: 0>\u001b[0;34m()\u001b[0m\n\u001b[0;32m----> 1\u001b[0;31m \u001b[0mdistance_traveled\u001b[0m \u001b[0;34m*\u001b[0m \u001b[0;36m.1\u001b[0m\u001b[0;34m\u001b[0m\u001b[0;34m\u001b[0m\u001b[0m\n\u001b[0m",
            "\u001b[0;31mTypeError\u001b[0m: can't multiply sequence by non-int of type 'float'"
          ]
        }
      ]
    },
    {
      "cell_type": "code",
      "source": [
        "tenp=[]\n",
        "for x in distance_traveled:\n",
        "  tenp.append(x*.1)\n",
        "print(tenp)"
      ],
      "metadata": {
        "colab": {
          "base_uri": "https://localhost:8080/"
        },
        "id": "ATWAK-TqzVuC",
        "outputId": "54b8678c-f04e-4cd2-c5cd-6b5fcc0f5b1c"
      },
      "execution_count": null,
      "outputs": [
        {
          "output_type": "stream",
          "name": "stdout",
          "text": [
            "[11.9, 21.0, 24.0, 31.0, 18.0]\n"
          ]
        }
      ]
    },
    {
      "cell_type": "code",
      "source": [
        "# myarray\n",
        "myarr"
      ],
      "metadata": {
        "colab": {
          "base_uri": "https://localhost:8080/"
        },
        "id": "fpDorWC1zAen",
        "outputId": "7a23ab09-911a-4346-eead-e030a45b4666"
      },
      "execution_count": null,
      "outputs": [
        {
          "output_type": "execute_result",
          "data": {
            "text/plain": [
              "array([119, 210, 240, 310, 180])"
            ]
          },
          "metadata": {},
          "execution_count": 22
        }
      ]
    },
    {
      "cell_type": "code",
      "source": [
        "myarr * .1"
      ],
      "metadata": {
        "colab": {
          "base_uri": "https://localhost:8080/"
        },
        "id": "lMIeUpUuzC2T",
        "outputId": "78b00dc1-0961-4aa4-d511-3c7cfa971959"
      },
      "execution_count": null,
      "outputs": [
        {
          "output_type": "execute_result",
          "data": {
            "text/plain": [
              "array([11.9, 21. , 24. , 31. , 18. ])"
            ]
          },
          "metadata": {},
          "execution_count": 23
        }
      ]
    },
    {
      "cell_type": "code",
      "source": [
        "# Vectorisation : this is a feature of  ND Array , it allows us to compute each element of Array using any mathematical expression\n",
        "# without requiring a loop"
      ],
      "metadata": {
        "id": "wCtgsqMOzDkf"
      },
      "execution_count": null,
      "outputs": []
    },
    {
      "cell_type": "code",
      "source": [
        "myarr +1"
      ],
      "metadata": {
        "colab": {
          "base_uri": "https://localhost:8080/"
        },
        "id": "DYSEY9PhzTwd",
        "outputId": "334255b8-1b12-42eb-9a90-16cfee7067d5"
      },
      "execution_count": null,
      "outputs": [
        {
          "output_type": "execute_result",
          "data": {
            "text/plain": [
              "array([120, 211, 241, 311, 181])"
            ]
          },
          "metadata": {},
          "execution_count": 27
        }
      ]
    },
    {
      "cell_type": "code",
      "source": [],
      "metadata": {
        "id": "nsm1tmkVzgDS"
      },
      "execution_count": null,
      "outputs": []
    },
    {
      "cell_type": "code",
      "source": [
        "# Memory Optimization in numpy"
      ],
      "metadata": {
        "id": "714MA-wRzso-"
      },
      "execution_count": null,
      "outputs": []
    },
    {
      "cell_type": "code",
      "source": [
        "# objective: you are asked to find how much memory is consumed by 1 integer in numpy vs Python"
      ],
      "metadata": {
        "id": "88AfYbYxzvqu"
      },
      "execution_count": null,
      "outputs": []
    },
    {
      "cell_type": "code",
      "source": [
        "# python\n",
        "import sys\n",
        "print( sys.getsizeof(5),' bytes')"
      ],
      "metadata": {
        "colab": {
          "base_uri": "https://localhost:8080/"
        },
        "id": "P2dsPLhhzzFF",
        "outputId": "2c1c3814-f308-4a0f-d03a-5528688cbeb4"
      },
      "execution_count": null,
      "outputs": [
        {
          "output_type": "stream",
          "name": "stdout",
          "text": [
            "28  bytes\n"
          ]
        }
      ]
    },
    {
      "cell_type": "code",
      "source": [
        "# numpy\n",
        "print( myarr.itemsize , ' bytes')"
      ],
      "metadata": {
        "colab": {
          "base_uri": "https://localhost:8080/"
        },
        "id": "fPx2B3Fsz4vd",
        "outputId": "51b7ad00-f6fc-429d-db23-2d6d24872d9c"
      },
      "execution_count": null,
      "outputs": [
        {
          "output_type": "stream",
          "name": "stdout",
          "text": [
            "8  bytes\n"
          ]
        }
      ]
    },
    {
      "cell_type": "code",
      "source": [],
      "metadata": {
        "id": "lyEWFKx3z66V"
      },
      "execution_count": null,
      "outputs": []
    },
    {
      "cell_type": "code",
      "source": [
        "# Speed Test\n",
        "#\n",
        "# Objective: to add 1 Million numbers using Python vs Numpy , One taking less time will be the winner."
      ],
      "metadata": {
        "id": "eOoc2RK50HdX"
      },
      "execution_count": null,
      "outputs": []
    },
    {
      "cell_type": "code",
      "source": [
        "import numpy as np\n",
        "import time\n",
        "\n",
        "SIZE = 1000000\n",
        "\n",
        "A1 = range(SIZE)\n",
        "A2 = range(SIZE)\n",
        "\n",
        "L1 = np.arange(SIZE)\n",
        "L2 = np.arange(SIZE)\n",
        "\n",
        "# python test\n",
        "start = time.time()\n",
        "result = [ x+y for x,y in zip(A1,A2)]\n",
        "stop = time.time()\n",
        "print('🐍 Python Took ' , (stop-start) * 1000, ' ms ')\n",
        "\n",
        "# numpy test\n",
        "start = time.time()\n",
        "result = L1 + L2\n",
        "stop = time.time()\n",
        "\n",
        "print('🦸 Numpy Took ' , (stop-start) * 1000, ' ms ')"
      ],
      "metadata": {
        "colab": {
          "base_uri": "https://localhost:8080/"
        },
        "id": "0qzYgZWG0QwX",
        "outputId": "e079d762-8813-479e-db99-5818a8515a95"
      },
      "execution_count": null,
      "outputs": [
        {
          "output_type": "stream",
          "name": "stdout",
          "text": [
            "🐍 Python Took  170.5636978149414  ms \n",
            "🦸 Numpy Took  29.2356014251709  ms \n"
          ]
        }
      ]
    },
    {
      "cell_type": "code",
      "source": [],
      "metadata": {
        "id": "KnuGxmNj1fBb"
      },
      "execution_count": null,
      "outputs": []
    },
    {
      "cell_type": "code",
      "source": [
        "# Working with 2D Array\n",
        "#---"
      ],
      "metadata": {
        "id": "xl1xVQzi10qO"
      },
      "execution_count": null,
      "outputs": []
    },
    {
      "cell_type": "code",
      "source": [
        "# Columns represents Year : 1990 , 1991 , 1992\n",
        "# rows represents Months  : Jan / Feb / Mar / Apr\n",
        "\n",
        "weather_info =[\n",
        "               [ 14 , 18 , 9   ],\n",
        "               [ 11 , 13 , 10  ],\n",
        "               [ 21 , 15 , 17  ],\n",
        "               [ 19 , 23 , 20  ]\n",
        "              ]"
      ],
      "metadata": {
        "id": "iC9j05zs112N"
      },
      "execution_count": null,
      "outputs": []
    },
    {
      "cell_type": "code",
      "source": [
        "# what is the temprature in 1991 , February ?"
      ],
      "metadata": {
        "id": "wGk5s6rp2TIm"
      },
      "execution_count": null,
      "outputs": []
    },
    {
      "cell_type": "code",
      "source": [
        "w_arr = np.array ( weather_info )"
      ],
      "metadata": {
        "id": "ZHRcFGSe2Wjz"
      },
      "execution_count": null,
      "outputs": []
    },
    {
      "cell_type": "code",
      "source": [],
      "metadata": {
        "id": "lHa6B-Yu27GH"
      },
      "execution_count": null,
      "outputs": []
    },
    {
      "cell_type": "markdown",
      "source": [
        "# Matrix Inspection\n",
        "---"
      ],
      "metadata": {
        "id": "_-eC9L0D3GQ6"
      }
    },
    {
      "cell_type": "code",
      "source": [
        "w_arr"
      ],
      "metadata": {
        "colab": {
          "base_uri": "https://localhost:8080/"
        },
        "id": "ire1OnlN3JXW",
        "outputId": "874b5a41-3f94-4fb6-904b-97a118d95746"
      },
      "execution_count": null,
      "outputs": [
        {
          "output_type": "execute_result",
          "data": {
            "text/plain": [
              "array([[14, 18,  9],\n",
              "       [11, 13, 10],\n",
              "       [21, 15, 17],\n",
              "       [19, 23, 20]])"
            ]
          },
          "metadata": {},
          "execution_count": 43
        }
      ]
    },
    {
      "cell_type": "code",
      "source": [
        "# Rows X Cols\n",
        "print( w_arr.shape)"
      ],
      "metadata": {
        "colab": {
          "base_uri": "https://localhost:8080/"
        },
        "id": "2_tXwzFi3Kfl",
        "outputId": "57ac17b2-6cb3-4ebd-aecb-e72ceb4a899a"
      },
      "execution_count": null,
      "outputs": [
        {
          "output_type": "stream",
          "name": "stdout",
          "text": [
            "(4, 3)\n"
          ]
        }
      ]
    },
    {
      "cell_type": "code",
      "source": [
        "# total Temprature reading\n",
        "print( w_arr.size )"
      ],
      "metadata": {
        "colab": {
          "base_uri": "https://localhost:8080/"
        },
        "id": "nVA0pEMk3Pfv",
        "outputId": "8152a3ae-a4e6-44e8-b6e4-3dce6de27184"
      },
      "execution_count": null,
      "outputs": [
        {
          "output_type": "stream",
          "name": "stdout",
          "text": [
            "12\n"
          ]
        }
      ]
    },
    {
      "cell_type": "code",
      "source": [
        "# Dimension\n",
        "print ( w_arr.ndim )"
      ],
      "metadata": {
        "colab": {
          "base_uri": "https://localhost:8080/"
        },
        "id": "9PO-W-1g3bLV",
        "outputId": "2f10390c-137f-4176-cdb2-b0c6436b1c71"
      },
      "execution_count": null,
      "outputs": [
        {
          "output_type": "stream",
          "name": "stdout",
          "text": [
            "2\n"
          ]
        }
      ]
    },
    {
      "cell_type": "code",
      "source": [
        "# size of single element (in bytes)\n",
        "print( w_arr.itemsize)"
      ],
      "metadata": {
        "colab": {
          "base_uri": "https://localhost:8080/"
        },
        "id": "foHAvkRd3fzm",
        "outputId": "47d85f89-792e-47cd-d13c-153f0307bbc0"
      },
      "execution_count": null,
      "outputs": [
        {
          "output_type": "stream",
          "name": "stdout",
          "text": [
            "8\n"
          ]
        }
      ]
    },
    {
      "cell_type": "code",
      "source": [
        "# total memory occupied\n",
        "print(w_arr.nbytes)"
      ],
      "metadata": {
        "colab": {
          "base_uri": "https://localhost:8080/"
        },
        "id": "DIJShcDf3kU9",
        "outputId": "244de35a-2279-42b6-eaed-94bdc6b5b8c2"
      },
      "execution_count": null,
      "outputs": [
        {
          "output_type": "stream",
          "name": "stdout",
          "text": [
            "96\n"
          ]
        }
      ]
    },
    {
      "cell_type": "code",
      "source": [
        "# datatype\n",
        "\n",
        "print(w_arr.dtype)"
      ],
      "metadata": {
        "colab": {
          "base_uri": "https://localhost:8080/"
        },
        "id": "WPxqCfQL3tfX",
        "outputId": "9ddc6676-8b4b-44b3-c5ea-7b286390dfd5"
      },
      "execution_count": null,
      "outputs": [
        {
          "output_type": "stream",
          "name": "stdout",
          "text": [
            "int64\n"
          ]
        }
      ]
    },
    {
      "cell_type": "code",
      "source": [
        "# all elements are of int type ( note: nd array is homegenous data structure)\n",
        "# 64 : size of each element is 64 bits i.e. 8 bytes (64/8)"
      ],
      "metadata": {
        "id": "tOmmIUz735dI"
      },
      "execution_count": null,
      "outputs": []
    },
    {
      "cell_type": "code",
      "source": [
        "my_list = [1, 2, 3, 'a', 'b', 'c']\n",
        "numpy_array = np.array(my_list)"
      ],
      "metadata": {
        "id": "Tl0_5hyX4DlO"
      },
      "execution_count": null,
      "outputs": []
    },
    {
      "cell_type": "code",
      "source": [
        "numpy_array"
      ],
      "metadata": {
        "colab": {
          "base_uri": "https://localhost:8080/"
        },
        "id": "Z5gPIV8v4TfH",
        "outputId": "a435cd48-03c0-42e0-b4ba-6c515392aae9"
      },
      "execution_count": null,
      "outputs": [
        {
          "output_type": "execute_result",
          "data": {
            "text/plain": [
              "array(['1', '2', '3', 'a', 'b', 'c'], dtype='<U21')"
            ]
          },
          "metadata": {},
          "execution_count": 53
        }
      ]
    },
    {
      "cell_type": "code",
      "source": [
        "numpy_array.dtype"
      ],
      "metadata": {
        "colab": {
          "base_uri": "https://localhost:8080/"
        },
        "id": "QNWML5j54VYy",
        "outputId": "f9e56991-d5a2-494a-ea06-4add74956920"
      },
      "execution_count": null,
      "outputs": [
        {
          "output_type": "execute_result",
          "data": {
            "text/plain": [
              "dtype('<U21')"
            ]
          },
          "metadata": {},
          "execution_count": 54
        }
      ]
    },
    {
      "cell_type": "code",
      "source": [
        "data=['high','medium','low']\n",
        "\n",
        "arr=[ 3,2,1] # weightage\n",
        "\n",
        "\n"
      ],
      "metadata": {
        "id": "5vXYbpk84WcG"
      },
      "execution_count": null,
      "outputs": []
    },
    {
      "cell_type": "code",
      "source": [
        "w_arr"
      ],
      "metadata": {
        "colab": {
          "base_uri": "https://localhost:8080/"
        },
        "id": "grguxLl640Rs",
        "outputId": "83a3d00c-64e9-4533-ec12-5a5d52b3f11a"
      },
      "execution_count": null,
      "outputs": [
        {
          "output_type": "execute_result",
          "data": {
            "text/plain": [
              "array([[14, 18,  9],\n",
              "       [11, 13, 10],\n",
              "       [21, 15, 17],\n",
              "       [19, 23, 20]])"
            ]
          },
          "metadata": {},
          "execution_count": 55
        }
      ]
    },
    {
      "cell_type": "code",
      "source": [
        "# Let us begin with weather analysis"
      ],
      "metadata": {
        "id": "b9mFbZl341TK"
      },
      "execution_count": null,
      "outputs": []
    },
    {
      "cell_type": "markdown",
      "source": [
        "![image.png](data:image/png;base64,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)"
      ],
      "metadata": {
        "id": "6tgQ0QDw5O04"
      }
    },
    {
      "cell_type": "code",
      "source": [
        "# what is the temprature in year 1992 , march ?\n",
        "w_arr[ 2 ,2 ]"
      ],
      "metadata": {
        "colab": {
          "base_uri": "https://localhost:8080/"
        },
        "id": "rbccnpwm44up",
        "outputId": "4d3077ea-f113-461f-af41-ff6d5baff4a3"
      },
      "execution_count": null,
      "outputs": [
        {
          "output_type": "execute_result",
          "data": {
            "text/plain": [
              "np.int64(17)"
            ]
          },
          "metadata": {},
          "execution_count": 57
        }
      ]
    },
    {
      "cell_type": "code",
      "source": [
        "# temprature in year 1990, April ?\n",
        "w_arr[ 3, 0 ]"
      ],
      "metadata": {
        "colab": {
          "base_uri": "https://localhost:8080/"
        },
        "id": "upaLL61I5Wy1",
        "outputId": "e343997c-17ef-4bf1-a69e-d74c91b0c802"
      },
      "execution_count": null,
      "outputs": [
        {
          "output_type": "execute_result",
          "data": {
            "text/plain": [
              "np.int64(19)"
            ]
          },
          "metadata": {},
          "execution_count": 58
        }
      ]
    },
    {
      "cell_type": "code",
      "source": [
        "w_arr"
      ],
      "metadata": {
        "colab": {
          "base_uri": "https://localhost:8080/"
        },
        "id": "eWA4pWjU55Hd",
        "outputId": "401cf8af-b210-41a3-d0a2-117572f987ef"
      },
      "execution_count": null,
      "outputs": [
        {
          "output_type": "execute_result",
          "data": {
            "text/plain": [
              "array([[14, 18,  9],\n",
              "       [11, 13, 10],\n",
              "       [21, 15, 17],\n",
              "       [19, 23, 20]])"
            ]
          },
          "metadata": {},
          "execution_count": 59
        }
      ]
    },
    {
      "cell_type": "code",
      "source": [
        "print('highest temprature ever recorded ', w_arr.max())"
      ],
      "metadata": {
        "colab": {
          "base_uri": "https://localhost:8080/"
        },
        "id": "edV0x40d56MY",
        "outputId": "e87164b8-2d5d-496c-a780-efb61ba17985"
      },
      "execution_count": null,
      "outputs": [
        {
          "output_type": "stream",
          "name": "stdout",
          "text": [
            "highest temprature ever recorded  23\n"
          ]
        }
      ]
    },
    {
      "cell_type": "code",
      "source": [
        "print('lowest temprature ever recorded ' , w_arr.min() )"
      ],
      "metadata": {
        "colab": {
          "base_uri": "https://localhost:8080/"
        },
        "id": "bWFXroAS58g-",
        "outputId": "197ce66d-32b7-4fa5-b96b-840f4bf12cc6"
      },
      "execution_count": null,
      "outputs": [
        {
          "output_type": "stream",
          "name": "stdout",
          "text": [
            "lowest temprature ever recorded  9\n"
          ]
        }
      ]
    },
    {
      "cell_type": "code",
      "source": [
        "print('Highest Temprature Recorded Each Year ', w_arr.max(axis=0))"
      ],
      "metadata": {
        "colab": {
          "base_uri": "https://localhost:8080/"
        },
        "id": "vkl2e1SE6BpN",
        "outputId": "e2e4a2c6-058c-4c89-b030-9fd7673266b1"
      },
      "execution_count": null,
      "outputs": [
        {
          "output_type": "stream",
          "name": "stdout",
          "text": [
            "Highest Temprature Recorded Each Year  [21 23 20]\n"
          ]
        }
      ]
    },
    {
      "cell_type": "code",
      "source": [
        "print('Highest Temprature Recorded Each Month ', w_arr.max( axis = 1))"
      ],
      "metadata": {
        "colab": {
          "base_uri": "https://localhost:8080/"
        },
        "id": "HUEWTdvc6KXI",
        "outputId": "8eaa847f-a3e6-4c27-b828-0686873113e7"
      },
      "execution_count": null,
      "outputs": [
        {
          "output_type": "stream",
          "name": "stdout",
          "text": [
            "Highest Temprature Recorded Each Month  [18 13 21 23]\n"
          ]
        }
      ]
    },
    {
      "cell_type": "code",
      "source": [
        "# axis represents orientation :  axis=0 , means column wise computation ,  axis=1 means row wise computation"
      ],
      "metadata": {
        "id": "HofMJ-rY6OhE"
      },
      "execution_count": null,
      "outputs": []
    },
    {
      "cell_type": "code",
      "source": [],
      "metadata": {
        "id": "HOznjCv16iNx"
      },
      "execution_count": null,
      "outputs": []
    },
    {
      "cell_type": "code",
      "source": [
        "w_arr"
      ],
      "metadata": {
        "colab": {
          "base_uri": "https://localhost:8080/"
        },
        "id": "J8SpLNjT6jky",
        "outputId": "c1f4a24e-d1b7-412d-b5eb-b48fe595650f"
      },
      "execution_count": null,
      "outputs": [
        {
          "output_type": "execute_result",
          "data": {
            "text/plain": [
              "array([[14, 18,  9],\n",
              "       [11, 13, 10],\n",
              "       [21, 15, 17],\n",
              "       [19, 23, 20]])"
            ]
          },
          "metadata": {},
          "execution_count": 64
        }
      ]
    },
    {
      "cell_type": "code",
      "source": [
        "# 2D to 1D  ( Linear Data )"
      ],
      "metadata": {
        "id": "_WNh6erR6ka7"
      },
      "execution_count": null,
      "outputs": []
    },
    {
      "cell_type": "code",
      "source": [
        "flat_arr =      w_arr.flatten()"
      ],
      "metadata": {
        "id": "CVHFQxYA6mGX"
      },
      "execution_count": null,
      "outputs": []
    },
    {
      "cell_type": "code",
      "source": [
        "flat_arr"
      ],
      "metadata": {
        "colab": {
          "base_uri": "https://localhost:8080/"
        },
        "id": "_0jrRZe-6tIN",
        "outputId": "fd2b1fff-fcde-4b4a-d745-fce9a783c4f5"
      },
      "execution_count": null,
      "outputs": [
        {
          "output_type": "execute_result",
          "data": {
            "text/plain": [
              "array([14, 18,  9, 11, 13, 10, 21, 15, 17, 19, 23, 20])"
            ]
          },
          "metadata": {},
          "execution_count": 67
        }
      ]
    },
    {
      "cell_type": "code",
      "source": [],
      "metadata": {
        "id": "8CZVq1wn6tfB"
      },
      "execution_count": null,
      "outputs": []
    },
    {
      "cell_type": "code",
      "source": [
        "# Filtering\n",
        "###"
      ],
      "metadata": {
        "id": "-ZF-xeJP63zX"
      },
      "execution_count": null,
      "outputs": []
    },
    {
      "cell_type": "code",
      "source": [
        "flat_arr"
      ],
      "metadata": {
        "colab": {
          "base_uri": "https://localhost:8080/"
        },
        "id": "sLjFHIBy65Ij",
        "outputId": "46642670-be20-4ae8-a9ce-f34b520f1b51"
      },
      "execution_count": null,
      "outputs": [
        {
          "output_type": "execute_result",
          "data": {
            "text/plain": [
              "array([14, 18,  9, 11, 13, 10, 21, 15, 17, 19, 23, 20])"
            ]
          },
          "metadata": {},
          "execution_count": 69
        }
      ]
    },
    {
      "cell_type": "code",
      "source": [
        "flat_arr  < 12"
      ],
      "metadata": {
        "colab": {
          "base_uri": "https://localhost:8080/"
        },
        "id": "P4XyppaA657_",
        "outputId": "91a2caaa-c6f9-492d-aedc-34ee86f9e65b"
      },
      "execution_count": null,
      "outputs": [
        {
          "output_type": "execute_result",
          "data": {
            "text/plain": [
              "array([False, False,  True,  True, False,  True, False, False, False,\n",
              "       False, False, False])"
            ]
          },
          "metadata": {},
          "execution_count": 70
        }
      ]
    },
    {
      "cell_type": "code",
      "source": [
        "# Syntax:       Array [ Condition ]\n",
        "\n",
        "freezing_months = flat_arr [       flat_arr < 12  ]"
      ],
      "metadata": {
        "id": "7_7LJra7682q"
      },
      "execution_count": null,
      "outputs": []
    },
    {
      "cell_type": "code",
      "source": [
        "print('count of months where temp lesser then 12 -  ' , freezing_months.size)"
      ],
      "metadata": {
        "colab": {
          "base_uri": "https://localhost:8080/"
        },
        "id": "frbWlq-u7NS-",
        "outputId": "fb65de75-bb95-4eda-bb5d-e4b5a21157cf"
      },
      "execution_count": null,
      "outputs": [
        {
          "output_type": "stream",
          "name": "stdout",
          "text": [
            "count of months where temp lesser then 12 -   3\n"
          ]
        }
      ]
    },
    {
      "cell_type": "code",
      "source": [
        "# dealing with duplicates\n",
        "# change array size\n",
        "# solving linear equations using numpy\n",
        "# more filters"
      ],
      "metadata": {
        "id": "ZRR64XRZ7p45"
      },
      "execution_count": null,
      "outputs": []
    },
    {
      "cell_type": "code",
      "source": [
        "# image procesing using numpy"
      ],
      "metadata": {
        "id": "BrTDBia27hfm"
      },
      "execution_count": null,
      "outputs": []
    }
  ]
}